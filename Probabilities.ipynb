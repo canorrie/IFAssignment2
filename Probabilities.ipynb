{
  "nbformat": 4,
  "nbformat_minor": 0,
  "metadata": {
    "colab": {
      "name": "Probabilities.ipynb",
      "provenance": [],
      "collapsed_sections": []
    },
    "kernelspec": {
      "name": "python3",
      "display_name": "Python 3"
    }
  },
  "cells": [
    {
      "cell_type": "code",
      "metadata": {
        "id": "0Q_e87IrQKHV"
      },
      "source": [
        "#this is a quick python script to employ Dempster-Schaffer theory, using Dempster's rule of combination\r\n",
        "#combines two probability mass functions\r\n",
        "import numpy as np"
      ],
      "execution_count": 1,
      "outputs": []
    },
    {
      "cell_type": "code",
      "metadata": {
        "id": "THwUVEo5Qwuf"
      },
      "source": [
        "#takes in two lists and returns a matrix of products by i,j value\r\n",
        "def build_matrix(m_1, m_2):\r\n",
        "  matrix = []\r\n",
        "  for i in m_1:\r\n",
        "    vector = []\r\n",
        "    for j in m_2:\r\n",
        "      vector.append(np.around(i*j, 4))\r\n",
        "    matrix.append(vector)\r\n",
        "  return np.array(matrix).transpose()"
      ],
      "execution_count": 2,
      "outputs": []
    },
    {
      "cell_type": "code",
      "metadata": {
        "id": "UkOg5yEzSBGc"
      },
      "source": [
        "#checks to see if all elements in l1 are in l2\r\n",
        "#performed recursively on each element in l1\r\n",
        "def check_subset(l1, l2):\r\n",
        "  if (len(l1)!=1):\r\n",
        "    check = False\r\n",
        "    for i in l2:\r\n",
        "      if (l1[0]==i):\r\n",
        "        check = True\r\n",
        "    if(check==False):\r\n",
        "      return False\r\n",
        "    else:\r\n",
        "      return check_subset(l1[1:], l2)\r\n",
        "  else:\r\n",
        "    check = False\r\n",
        "    for i in l2:\r\n",
        "      if (l1[0]==i):\r\n",
        "        check = True\r\n",
        "    return check"
      ],
      "execution_count": 3,
      "outputs": []
    },
    {
      "cell_type": "code",
      "metadata": {
        "id": "HU5e0BE7VPRT"
      },
      "source": [
        "#checks to see if the intersect of l1 and l2 is a\r\n",
        "#a is a list of any length\r\n",
        "#also performed recursively\r\n",
        "def check_intersect(a, l1, l2):\r\n",
        "  if (len(a)==1):\r\n",
        "    check = False\r\n",
        "    if (a[0] in l1):\r\n",
        "      if (a[0] in l2):\r\n",
        "        #create temp lists that are just l1 and l2 without a\r\n",
        "        temp_l1 = []\r\n",
        "        temp_l2 = []\r\n",
        "        for i in l1:\r\n",
        "          if (i!=a[0]):\r\n",
        "            temp_l1.append(i)\r\n",
        "        for i in l2:\r\n",
        "          if (i!=a[0]):\r\n",
        "            temp_l2.append(i)\r\n",
        "        \r\n",
        "        #check if these two temp lists share any elements\r\n",
        "        for i in temp_l1:\r\n",
        "          for j in temp_l2:\r\n",
        "            if (i==j):\r\n",
        "              return False\r\n",
        "        check = True\r\n",
        "    return check\r\n",
        "\r\n",
        "  else:\r\n",
        "    check = False\r\n",
        "    if (a[0] in l1):\r\n",
        "      if (a[0] in l2):\r\n",
        "        #create temp lists that are just l1 and l2 without a\r\n",
        "        temp_l1 = []\r\n",
        "        temp_l2 = []\r\n",
        "        for i in l1:\r\n",
        "          if (i!=a[0]):\r\n",
        "            temp_l1.append(i)\r\n",
        "        for i in l2:\r\n",
        "          if (i!=a[0]):\r\n",
        "            temp_l2.append(i)\r\n",
        "\r\n",
        "        for i in temp_l1:\r\n",
        "          for j in temp_l2:\r\n",
        "            if (i==j):\r\n",
        "              if ((i not in a[1:]) or (j not in a[1:])):\r\n",
        "                return False\r\n",
        "        check = check_intersect(a[1:],temp_l1,temp_l2)\r\n",
        "\r\n",
        "    return check"
      ],
      "execution_count": 4,
      "outputs": []
    },
    {
      "cell_type": "code",
      "metadata": {
        "id": "tFxu1FEPbzht"
      },
      "source": [
        "#checks to see if the intersection of l1 and l2 is the empty set\r\n",
        "def check_null_intersect(l1, l2):\r\n",
        "  for i in l1:\r\n",
        "    for j in l2:\r\n",
        "      if (i==j):\r\n",
        "        return False\r\n",
        "  return True"
      ],
      "execution_count": 5,
      "outputs": []
    },
    {
      "cell_type": "code",
      "metadata": {
        "id": "CZVPeUiba93y"
      },
      "source": [
        "#construct numerator of dempster's rule\r\n",
        "def build_numerator(matrix, label, label_list):\r\n",
        "  coords = []\r\n",
        "\r\n",
        "  x = 0\r\n",
        "\r\n",
        "  for i in label_list:\r\n",
        "    y = 0\r\n",
        "    for j in label_list:\r\n",
        "      if check_intersect(label, i, j):\r\n",
        "        coords.append([y,x])\r\n",
        "      y += 1\r\n",
        "    x += 1\r\n",
        "\r\n",
        "  s = 0\r\n",
        "  for i in coords:\r\n",
        "    s += matrix[i[0]][i[1]]\r\n",
        "\r\n",
        "  return np.around(s,4)"
      ],
      "execution_count": 6,
      "outputs": []
    },
    {
      "cell_type": "code",
      "metadata": {
        "id": "SdqYRSRya9_m"
      },
      "source": [
        "#construct denominator of dempster's rule (conflict term)\r\n",
        "def build_denominator(matrix, label, label_list):\r\n",
        "  coords = []\r\n",
        "\r\n",
        "  x = 0\r\n",
        "\r\n",
        "  for i in label_list:\r\n",
        "    y = 0\r\n",
        "    for j in label_list:\r\n",
        "      if check_null_intersect(i,j):\r\n",
        "        coords.append([y,x])\r\n",
        "      y += 1\r\n",
        "    x += 1\r\n",
        "\r\n",
        "  s = 0\r\n",
        "  for i in coords:\r\n",
        "    s += matrix[i[0]][i[1]]\r\n",
        "\r\n",
        "  return np.around(s,4)"
      ],
      "execution_count": 7,
      "outputs": []
    },
    {
      "cell_type": "code",
      "metadata": {
        "id": "uyHG30JyhJU2"
      },
      "source": [
        "#perform the calculation for dempster's rule\r\n",
        "def dst(matrix, label, label_list):\r\n",
        "#  print(\"numerator: \" + str(build_numerator(matrix,label,label_list)))\r\n",
        "#  print(\"denominator: \" + str(1-build_denominator(matrix,label,label_list)))\r\n",
        "  return (build_numerator(matrix,label,label_list)/(1-build_denominator(matrix,label,label_list)))"
      ],
      "execution_count": 8,
      "outputs": []
    },
    {
      "cell_type": "code",
      "metadata": {
        "colab": {
          "base_uri": "https://localhost:8080/"
        },
        "id": "XXK_WvnhWNhB",
        "outputId": "ec73f37d-9014-456c-b3fc-0de4051a9788"
      },
      "source": [
        "#test run to see if this works with the example in lecture notes\r\n",
        "m1 = [0.1, 0.1, 0, 0.1, 0.2, 0, 0.5]\r\n",
        "m2 = [0.2, 0.1, 0, 0.2, 0.1, 0, 0.4]\r\n",
        "labels = [['M'], ['J'], ['C'], ['M','J'], ['M','C'], ['J','C'], ['M','J','C']]\r\n",
        "the_matrix = build_matrix(m1, m2)\r\n",
        "the_matrix"
      ],
      "execution_count": 9,
      "outputs": [
        {
          "output_type": "execute_result",
          "data": {
            "text/plain": [
              "array([[0.02, 0.02, 0.  , 0.02, 0.04, 0.  , 0.1 ],\n",
              "       [0.01, 0.01, 0.  , 0.01, 0.02, 0.  , 0.05],\n",
              "       [0.  , 0.  , 0.  , 0.  , 0.  , 0.  , 0.  ],\n",
              "       [0.02, 0.02, 0.  , 0.02, 0.04, 0.  , 0.1 ],\n",
              "       [0.01, 0.01, 0.  , 0.01, 0.02, 0.  , 0.05],\n",
              "       [0.  , 0.  , 0.  , 0.  , 0.  , 0.  , 0.  ],\n",
              "       [0.04, 0.04, 0.  , 0.04, 0.08, 0.  , 0.2 ]])"
            ]
          },
          "metadata": {
            "tags": []
          },
          "execution_count": 9
        }
      ]
    },
    {
      "cell_type": "code",
      "metadata": {
        "colab": {
          "base_uri": "https://localhost:8080/"
        },
        "id": "L0TWci_Kewrb",
        "outputId": "f0267b43-a691-4cf9-ab5a-93613efbd93e"
      },
      "source": [
        "#continuation from above, pls is a term to ensure the sum of all probabilities is 1\r\n",
        "print(\"Combined Probability Mass Functions: Dempster-Schaffer Theory\")\r\n",
        "pls = 0\r\n",
        "m12 = []\r\n",
        "for i in labels:\r\n",
        "  print(i, str(dst(the_matrix, i, labels)))\r\n",
        "  pls += dst(the_matrix, i, labels)\r\n",
        "  m12.append(dst(the_matrix, i, labels))\r\n",
        "print(pls)"
      ],
      "execution_count": 12,
      "outputs": [
        {
          "output_type": "stream",
          "text": [
            "Combined Probability Mass Functions: Dempster-Schaffer Theory\n",
            "['R'] 0.4146341463414634\n",
            "['P'] 0.07317073170731707\n",
            "['S'] 0.3170731707317073\n",
            "['R', 'P'] 0.024390243902439022\n",
            "['P', 'S'] 0.024390243902439022\n",
            "['R', 'S'] 0.14634146341463414\n",
            "['R', 'P', 'S'] 0.0\n",
            "1.0\n"
          ],
          "name": "stdout"
        }
      ]
    },
    {
      "cell_type": "code",
      "metadata": {
        "colab": {
          "base_uri": "https://localhost:8080/"
        },
        "id": "L2YoCbLy-1tK",
        "outputId": "4dd0baf8-c581-4d7b-fc49-345d025be2e2"
      },
      "source": [
        "#perform the actual calculation for the problem in assignment\r\n",
        "m1 = [0.2, 0.1, 0.1, 0.2, 0.2, 0.2, 0.0]\r\n",
        "m2 = [0.1, 0.0, 0.1, 0.1, 0.1, 0.6, 0.0]\r\n",
        "labels = [['R'], ['P'], ['S'], ['R','P'], ['P','S'], ['R','S'], ['R','P','S']]\r\n",
        "the_matrix = build_matrix(m1, m2)\r\n",
        "the_matrix\r\n",
        "print(\"Combined Probability Mass Functions: Dempster-Schaffer Theory\")\r\n",
        "pls = 0\r\n",
        "\r\n",
        "#collect probabilities for pignistic transformation later\r\n",
        "m12 = []\r\n",
        "for i in labels:\r\n",
        "  print(i, str(dst(the_matrix, i, labels)))\r\n",
        "  pls += dst(the_matrix, i, labels)\r\n",
        "  m12.append(dst(the_matrix, i, labels))\r\n",
        "print(pls)"
      ],
      "execution_count": 13,
      "outputs": [
        {
          "output_type": "stream",
          "text": [
            "Combined Probability Mass Functions: Dempster-Schaffer Theory\n",
            "['R'] 0.4146341463414634\n",
            "['P'] 0.07317073170731707\n",
            "['S'] 0.3170731707317073\n",
            "['R', 'P'] 0.024390243902439022\n",
            "['P', 'S'] 0.024390243902439022\n",
            "['R', 'S'] 0.14634146341463414\n",
            "['R', 'P', 'S'] 0.0\n",
            "1.0\n"
          ],
          "name": "stdout"
        }
      ]
    },
    {
      "cell_type": "code",
      "metadata": {
        "colab": {
          "base_uri": "https://localhost:8080/"
        },
        "id": "-Rnmjm5FFoC9",
        "outputId": "38ddc5ee-6c0f-40ff-8bb0-d6c7a9c3cdf6"
      },
      "source": [
        "print(m12)\r\n",
        "print(\"Pignistic Transformation\")\r\n",
        "print(\"R:\", m12[0]+(m12[3]*0.5)+(m12[5]*0.5))\r\n",
        "print(\"P:\", m12[1]+(m12[3]*0.5)+(m12[4]*0.5))\r\n",
        "print(\"S:\", m12[2]+(m12[4]*0.5)+(m12[5]*0.5))"
      ],
      "execution_count": 18,
      "outputs": [
        {
          "output_type": "stream",
          "text": [
            "[0.4146341463414634, 0.07317073170731707, 0.3170731707317073, 0.024390243902439022, 0.024390243902439022, 0.14634146341463414, 0.0]\n",
            "Pignistic Transformation\n",
            "R: 0.5\n",
            "P: 0.09756097560975609\n",
            "S: 0.4024390243902439\n"
          ],
          "name": "stdout"
        }
      ]
    }
  ]
}